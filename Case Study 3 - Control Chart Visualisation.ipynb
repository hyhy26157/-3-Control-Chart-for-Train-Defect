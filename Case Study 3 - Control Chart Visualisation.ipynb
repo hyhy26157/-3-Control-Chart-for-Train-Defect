{
 "cells": [
  {
   "cell_type": "code",
   "execution_count": 1,
   "id": "ff4d933a",
   "metadata": {
    "scrolled": true
   },
   "outputs": [],
   "source": [
    "import pandas as pd\n",
    "import numpy as np\n",
    "import matplotlib.pyplot as plt\n",
    "import matplotlib.dates as mdates\n",
    "from matplotlib.ticker import NullFormatter\n",
    "from matplotlib.dates import MonthLocator, DateFormatter\n",
    "import seaborn as sns"
   ]
  },
  {
   "cell_type": "code",
   "execution_count": 3,
   "id": "207bbc07",
   "metadata": {},
   "outputs": [],
   "source": [
    "#defect data\n",
    "df = pd.read_excel(r\"C:\\Users\\Darius\\OneDrive - SMRT Corporation Ltd\\RCM\\RCM TEMPLATE USE THIS FOR UPDATE_110221\\Control charts CCLRS Template.xlsx\", date_parser = \"Record\")\n",
    "\n",
    "#train mileage data\n",
    "mileage = pd.read_excel(r\"C:\\Users\\Darius\\OneDrive - SMRT Corporation Ltd\\RCM\\RCM TEMPLATE USE THIS FOR UPDATE_110221\\Control charts CCLRS Template.xlsx\", sheet_name = \"Mileage\" ,date_parser = \"Record\")\n",
    "\n",
    "#train withdrawal data\n",
    "pvw = pd.read_excel(r\"C:\\Users\\Darius\\OneDrive - SMRT Corporation Ltd\\RCM\\RCM TEMPLATE USE THIS FOR UPDATE_110221\\Control charts CCLRS Template.xlsx\", sheet_name = \"Ops Data\" ,date_parser = \"Date\")"
   ]
  },
  {
   "cell_type": "markdown",
   "id": "dd31cbb8",
   "metadata": {},
   "source": [
    "### Data Cleaning"
   ]
  },
  {
   "cell_type": "code",
   "execution_count": 4,
   "id": "5220ea78",
   "metadata": {},
   "outputs": [],
   "source": [
    "df[\"Fault Group\"]  = df[\"Fault Group\"].fillna(\"Nil\")"
   ]
  },
  {
   "cell_type": "code",
   "execution_count": 5,
   "id": "1fe577ee",
   "metadata": {},
   "outputs": [],
   "source": [
    "#remove non-critical categories\n",
    "df  = df.loc[~df[\"Fault Group\"].str.contains(\n",
    "    \"Miscellaneous|Nil|pm|PM|Train|WIN System\")]"
   ]
  },
  {
   "cell_type": "code",
   "execution_count": 6,
   "id": "aefe58d0",
   "metadata": {},
   "outputs": [
    {
     "name": "stderr",
     "output_type": "stream",
     "text": [
      "C:\\Users\\Darius\\AppData\\Local\\Temp/ipykernel_1772/2933923013.py:5: UserWarning: This pattern has match groups. To actually get the groups, use str.extract.\n",
      "  df = df.loc[~df[\"Cause\"].str.contains(\n"
     ]
    }
   ],
   "source": [
    "#fill variable that is na in cause column\n",
    "df.Cause.fillna('Uncategorised', inplace=True)\n",
    "\n",
    "#remove non-critical cause\n",
    "df = df.loc[~df[\"Cause\"].str.contains(\n",
    "    'S-ATC-Onboard-PISF/DR|No action done. System all in normal condition|No fault found (Deleted)|Nil|Not A Defect. No action needed|#N/A|nil|Nil|Uncategorised|Miscellaneous')].copy()"
   ]
  },
  {
   "cell_type": "code",
   "execution_count": 19,
   "id": "edef7a80",
   "metadata": {},
   "outputs": [],
   "source": [
    "df.columns = df.columns.str.strip()"
   ]
  },
  {
   "cell_type": "code",
   "execution_count": 20,
   "id": "b2c5de20",
   "metadata": {},
   "outputs": [],
   "source": [
    "df  = df.loc[:,[\"Record\",\"Order Number\",\"Notification Number\",\"Record_MonthName\",\"WO Text\",\"Fault Group\",\n",
    "                \"Cause\",\"FDS Remarks\",\"Operation Text\",\"Train Number\",\"Fleet\"]]"
   ]
  },
  {
   "cell_type": "code",
   "execution_count": 21,
   "id": "edc3057a",
   "metadata": {},
   "outputs": [],
   "source": [
    "#further filter for control chart visualisation\n",
    "dff  = df.loc[:,[\"Record_MonthName\",\"Fault Group\",\"Fleet\",\"Train Number\"]].copy()"
   ]
  },
  {
   "cell_type": "code",
   "execution_count": 22,
   "id": "2054a8ec",
   "metadata": {
    "scrolled": true
   },
   "outputs": [],
   "source": [
    "dfpt = dff.pivot_table(index = [\"Fleet\",\"Record_MonthName\"],columns = \"Fault Group\", aggfunc = \"count\" )\n",
    "dfpt.fillna(0.0, inplace=True)\n",
    "#dfpt.reset_index(level = 0, inplace=True)\n",
    "#dfpt.sort_values(by = \"Record_MonthName\", ascending = False,inplace=True)"
   ]
  },
  {
   "cell_type": "markdown",
   "id": "a3a7df49",
   "metadata": {},
   "source": [
    "### filter by fleet (C830)"
   ]
  },
  {
   "cell_type": "code",
   "execution_count": 23,
   "id": "52e0dae9",
   "metadata": {},
   "outputs": [
    {
     "name": "stderr",
     "output_type": "stream",
     "text": [
      "C:\\Users\\Darius\\AppData\\Local\\Temp/ipykernel_1772/1344093881.py:8: FutureWarning: In a future version of pandas all arguments of DataFrame.drop except for the argument 'labels' will be keyword-only\n",
      "  dfptc830 = dfptc830.drop('Fleet', 1).copy()\n",
      "C:\\Users\\Darius\\anaconda3\\lib\\site-packages\\pandas\\core\\generic.py:4150: PerformanceWarning: dropping on a non-lexsorted multi-index without a level parameter may impact performance.\n",
      "  obj = obj._drop_axis(labels, axis, level=level, errors=errors)\n",
      "C:\\Users\\Darius\\AppData\\Local\\Temp/ipykernel_1772/1344093881.py:22: SettingWithCopyWarning: \n",
      "A value is trying to be set on a copy of a slice from a DataFrame.\n",
      "Try using .loc[row_indexer,col_indexer] = value instead\n",
      "\n",
      "See the caveats in the documentation: https://pandas.pydata.org/pandas-docs/stable/user_guide/indexing.html#returning-a-view-versus-a-copy\n",
      "  mileagec830[\"C830 (monthly)\"] = mileagec830[\"C830 (monthly)\"].fillna(1)\n"
     ]
    }
   ],
   "source": [
    "#filter by C830\n",
    "dfptc830 = dfpt.loc[[dfpt.index.get_level_values(0)[1]]]\n",
    "\n",
    "#reset index\n",
    "dfptc830 = dfptc830.reset_index()\n",
    "\n",
    "#drop fleet columns\n",
    "dfptc830 = dfptc830.drop('Fleet', 1).copy()\n",
    "\n",
    "#compress columns name\n",
    "dfptc830.columns = dfptc830.columns.map('_'.join)\n",
    "\n",
    "#set month as index\n",
    "dfptc830 = dfptc830.set_index('Record_MonthName_')\n",
    "\n",
    "#replace all the zero count as 0.1 to prevent NaN error.\n",
    "dfptc830 = dfptc830.replace(0.0,0.1)\n",
    "\n",
    "#C830 mileage\n",
    "mileage.rename(columns={'Record': 'Record_MonthName_'}, inplace=True)\n",
    "mileagec830 = mileage.iloc[:,[0,67]]\n",
    "mileagec830[\"C830 (monthly)\"] = mileagec830[\"C830 (monthly)\"].fillna(1)\n",
    "mileagec830 = mileagec830.set_index('Record_MonthName_')\n",
    "\n",
    "#merge mileage and dfptc830 together\n",
    "dfptc830 = pd.merge(dfptc830,mileagec830, how = \"left\", left_index=True, right_index=True )\n",
    "\n",
    "#calculate defect rate of each fault category\n",
    "a = dfptc830.iloc[:,:-1]\n",
    "#a = dfptc830.iloc[:,0]\n",
    "b = dfptc830.iloc[:,-1:]\n",
    "\n",
    "a = a.fillna(0.1)\n",
    "b = b.fillna(0.1)\n",
    "\n",
    "c830_defectrate = a.div(b.values, axis=0) * 100000.0\n",
    "c830_defectrate = c830_defectrate.round(2)\n",
    "\n",
    "#calculate mean of each fault category\n",
    "c830_mean = c830_defectrate.tail(18)\n",
    "c830_mean = c830_mean.replace(\"Train Number_\",\"mean\")\n",
    "c830_mean.reset_index(inplace=True)\n",
    "c830_mean.columns = c830_mean.columns.str.replace(\"Train Number_\",\"Mean \")\n",
    "\n",
    "#calculate std *3 (UCL) of each fault category\n",
    "c830_std = (c830_defectrate.rolling(18).std().tail(18) * 1.645) + (c830_defectrate.rolling(18).mean().tail(18))\n",
    "c830_std = c830_std.replace(\"Train Number_\",\"UCL\")\n",
    "c830_std.reset_index(inplace=True)\n",
    "c830_std.columns = c830_std.columns.str.replace(\"Train Number_\",\"UCL \")\n",
    "\n",
    "#create a function to fix UCL line by year\n",
    "\n",
    "def fixed_UCL(std):\n",
    "        i = 0\n",
    "        for i in range(len(std)):\n",
    "            try:\n",
    "                if std.Record_MonthName_.dt.month[i] != 12:\n",
    "                    a = std.iloc[i,1:].copy()\n",
    "                    std.iloc[i+1,1:] = a\n",
    "            except IndexError :\n",
    "                pass\n",
    "\n",
    "##fix c830 UCL line by year\n",
    "fixed_UCL(c830_std)\n",
    "\n",
    "#merge mean data and std data\n",
    "c830 = pd.merge(c830_mean,c830_std, how = \"left\",on  =\"Record_MonthName_\")\n",
    "#round the decimal points\n",
    "c830 = c830.round(2)"
   ]
  },
  {
   "cell_type": "code",
   "execution_count": 24,
   "id": "7c591822",
   "metadata": {},
   "outputs": [
    {
     "name": "stdout",
     "output_type": "stream",
     "text": [
      "<class 'pandas.core.frame.DataFrame'>\n",
      "Int64Index: 18 entries, 0 to 17\n",
      "Data columns (total 23 columns):\n",
      " #   Column                      Non-Null Count  Dtype         \n",
      "---  ------                      --------------  -----         \n",
      " 0   Record_MonthName_           18 non-null     datetime64[ns]\n",
      " 1   Mean ATC System             18 non-null     float64       \n",
      " 2   Mean Aircon System          18 non-null     float64       \n",
      " 3   Mean Auxiliary System       18 non-null     float64       \n",
      " 4   Mean Brake System           18 non-null     float64       \n",
      " 5   Mean Coupler System         18 non-null     float64       \n",
      " 6   Mean Electrical System      18 non-null     float64       \n",
      " 7   Mean Fire Detection System  18 non-null     float64       \n",
      " 8   Mean Lighting System        18 non-null     float64       \n",
      " 9   Mean Pneumatic System       18 non-null     float64       \n",
      " 10  Mean Propulsion System      18 non-null     float64       \n",
      " 11  Mean Saloon Door System     18 non-null     float64       \n",
      " 12  UCL ATC System              18 non-null     float64       \n",
      " 13  UCL Aircon System           18 non-null     float64       \n",
      " 14  UCL Auxiliary System        18 non-null     float64       \n",
      " 15  UCL Brake System            18 non-null     float64       \n",
      " 16  UCL Coupler System          18 non-null     float64       \n",
      " 17  UCL Electrical System       18 non-null     float64       \n",
      " 18  UCL Fire Detection System   18 non-null     float64       \n",
      " 19  UCL Lighting System         18 non-null     float64       \n",
      " 20  UCL Pneumatic System        18 non-null     float64       \n",
      " 21  UCL Propulsion System       18 non-null     float64       \n",
      " 22  UCL Saloon Door System      18 non-null     float64       \n",
      "dtypes: datetime64[ns](1), float64(22)\n",
      "memory usage: 3.4 KB\n"
     ]
    }
   ],
   "source": [
    "c830.info()"
   ]
  },
  {
   "cell_type": "code",
   "execution_count": 25,
   "id": "bb8af322",
   "metadata": {
    "scrolled": true
   },
   "outputs": [],
   "source": [
    "#melt defect rate columns\n",
    "c830dr = pd.melt(c830, id_vars=['Record_MonthName_'], value_vars=c830.iloc[:,1:12],var_name='Fault_Category',value_name='Defect_Rate', ignore_index=False)\n",
    "#generalise fault category labels\n",
    "c830dr.Fault_Category = c830dr.Fault_Category.str.replace(\"Mean\",\"\").str.strip()\n",
    "\n",
    "#melt defect rate columns\n",
    "c830ucl = pd.melt(c830, id_vars=['Record_MonthName_'], value_vars=c830.iloc[:,12:],var_name='Fault_Category',value_name='UCL', ignore_index=False)\n",
    "\n",
    "#concat c830dr and c830ucl\n",
    "c830dr[\"UCL\"] = c830ucl.iloc[:,2]\n",
    "c830 = c830dr\n",
    "c830.reset_index(drop=True, inplace=True)"
   ]
  },
  {
   "cell_type": "code",
   "execution_count": 26,
   "id": "af914d68",
   "metadata": {},
   "outputs": [],
   "source": [
    "c830test = c830.copy()"
   ]
  },
  {
   "cell_type": "code",
   "execution_count": 27,
   "id": "cabb3c9d",
   "metadata": {},
   "outputs": [
    {
     "data": {
      "text/html": [
       "<div>\n",
       "<style scoped>\n",
       "    .dataframe tbody tr th:only-of-type {\n",
       "        vertical-align: middle;\n",
       "    }\n",
       "\n",
       "    .dataframe tbody tr th {\n",
       "        vertical-align: top;\n",
       "    }\n",
       "\n",
       "    .dataframe thead th {\n",
       "        text-align: right;\n",
       "    }\n",
       "</style>\n",
       "<table border=\"1\" class=\"dataframe\">\n",
       "  <thead>\n",
       "    <tr style=\"text-align: right;\">\n",
       "      <th></th>\n",
       "      <th>Record_MonthName_</th>\n",
       "      <th>Fault_Category</th>\n",
       "      <th>Defect_Rate</th>\n",
       "      <th>UCL</th>\n",
       "    </tr>\n",
       "  </thead>\n",
       "  <tbody>\n",
       "    <tr>\n",
       "      <th>0</th>\n",
       "      <td>2020-12-01</td>\n",
       "      <td>ATC System</td>\n",
       "      <td>1.57</td>\n",
       "      <td>4.23</td>\n",
       "    </tr>\n",
       "    <tr>\n",
       "      <th>1</th>\n",
       "      <td>2021-01-01</td>\n",
       "      <td>ATC System</td>\n",
       "      <td>2.13</td>\n",
       "      <td>4.22</td>\n",
       "    </tr>\n",
       "    <tr>\n",
       "      <th>2</th>\n",
       "      <td>2021-02-01</td>\n",
       "      <td>ATC System</td>\n",
       "      <td>2.37</td>\n",
       "      <td>4.22</td>\n",
       "    </tr>\n",
       "    <tr>\n",
       "      <th>3</th>\n",
       "      <td>2021-03-01</td>\n",
       "      <td>ATC System</td>\n",
       "      <td>4.09</td>\n",
       "      <td>4.22</td>\n",
       "    </tr>\n",
       "    <tr>\n",
       "      <th>4</th>\n",
       "      <td>2021-04-01</td>\n",
       "      <td>ATC System</td>\n",
       "      <td>2.72</td>\n",
       "      <td>4.22</td>\n",
       "    </tr>\n",
       "    <tr>\n",
       "      <th>...</th>\n",
       "      <td>...</td>\n",
       "      <td>...</td>\n",
       "      <td>...</td>\n",
       "      <td>...</td>\n",
       "    </tr>\n",
       "    <tr>\n",
       "      <th>193</th>\n",
       "      <td>2022-01-01</td>\n",
       "      <td>Saloon Door System</td>\n",
       "      <td>2.94</td>\n",
       "      <td>3.48</td>\n",
       "    </tr>\n",
       "    <tr>\n",
       "      <th>194</th>\n",
       "      <td>2022-02-01</td>\n",
       "      <td>Saloon Door System</td>\n",
       "      <td>1.24</td>\n",
       "      <td>3.48</td>\n",
       "    </tr>\n",
       "    <tr>\n",
       "      <th>195</th>\n",
       "      <td>2022-03-01</td>\n",
       "      <td>Saloon Door System</td>\n",
       "      <td>2.21</td>\n",
       "      <td>3.48</td>\n",
       "    </tr>\n",
       "    <tr>\n",
       "      <th>196</th>\n",
       "      <td>2022-04-01</td>\n",
       "      <td>Saloon Door System</td>\n",
       "      <td>0.71</td>\n",
       "      <td>3.48</td>\n",
       "    </tr>\n",
       "    <tr>\n",
       "      <th>197</th>\n",
       "      <td>2022-05-01</td>\n",
       "      <td>Saloon Door System</td>\n",
       "      <td>1.29</td>\n",
       "      <td>3.48</td>\n",
       "    </tr>\n",
       "  </tbody>\n",
       "</table>\n",
       "<p>198 rows × 4 columns</p>\n",
       "</div>"
      ],
      "text/plain": [
       "    Record_MonthName_      Fault_Category  Defect_Rate   UCL\n",
       "0          2020-12-01          ATC System         1.57  4.23\n",
       "1          2021-01-01          ATC System         2.13  4.22\n",
       "2          2021-02-01          ATC System         2.37  4.22\n",
       "3          2021-03-01          ATC System         4.09  4.22\n",
       "4          2021-04-01          ATC System         2.72  4.22\n",
       "..                ...                 ...          ...   ...\n",
       "193        2022-01-01  Saloon Door System         2.94  3.48\n",
       "194        2022-02-01  Saloon Door System         1.24  3.48\n",
       "195        2022-03-01  Saloon Door System         2.21  3.48\n",
       "196        2022-04-01  Saloon Door System         0.71  3.48\n",
       "197        2022-05-01  Saloon Door System         1.29  3.48\n",
       "\n",
       "[198 rows x 4 columns]"
      ]
     },
     "execution_count": 27,
     "metadata": {},
     "output_type": "execute_result"
    }
   ],
   "source": [
    "c830test"
   ]
  },
  {
   "cell_type": "code",
   "execution_count": 28,
   "id": "11096477",
   "metadata": {},
   "outputs": [],
   "source": [
    "#check for defect rate above UCL\n",
    "x=0\n",
    "c830test[\"above_UCL\"] = \"\"\n",
    "\n",
    "for x in range(len(c830test.loc[:,\"Defect_Rate\"])):\n",
    "    if c830test.loc[x,\"Defect_Rate\"] >= c830test.loc[x,\"UCL\"]:\n",
    "        c830test.loc[x,\"above_UCL\"] = c830test.loc[x,\"Defect_Rate\"]\n",
    "    else:\n",
    "        c830test.loc[x,\"above_UCL\"] = 0"
   ]
  },
  {
   "cell_type": "code",
   "execution_count": 29,
   "id": "6f603309",
   "metadata": {},
   "outputs": [],
   "source": [
    "x=0\n",
    "y=0\n",
    "#loop to capture all upward trends (3 consecutive upward trend)\n",
    "\n",
    "for y in range(c830test.Fault_Category.nunique()):\n",
    "    for x in range(18):\n",
    "        if (x+3+(18*y) == 198):\n",
    "            break\n",
    "        elif (c830test.loc[x+1+(18*y),\"Fault_Category\"] == c830test.Fault_Category.unique()[y])|(\n",
    "            c830test.loc[x+2+(18*y),\"Fault_Category\"] == c830test.Fault_Category.unique()[y])|(\n",
    "            c830test.loc[x+3+(18*y),\"Fault_Category\"] == c830test.Fault_Category.unique()[y]):\n",
    "\n",
    "            if (c830test.loc[x+(18*y),\"Defect_Rate\"] < c830test.loc[x+1+(\n",
    "                18*y),\"Defect_Rate\"] < c830test.loc[x+2+(18*y),\"Defect_Rate\"] < c830test.loc[x+3+(18*y),\"Defect_Rate\"]):\n",
    "\n",
    "                    c830test.loc[x+(18*y),\"upward_trend\"] = c830test.loc[x+(18*y),\"Defect_Rate\"]\n",
    "                    c830test.loc[x+1+(18*y),\"upward_trend\"] = c830test.loc[x+1+(18*y),\"Defect_Rate\"]\n",
    "                    c830test.loc[x+2+(18*y),\"upward_trend\"] = c830test.loc[x+2+(18*y),\"Defect_Rate\"]\n",
    "                    c830test.loc[x+3+(18*y),\"upward_trend\"] = c830test.loc[x+3+(18*y),\"Defect_Rate\"]\n",
    "\n",
    "            else:\n",
    "                pass\n",
    "        else:\n",
    "            break"
   ]
  },
  {
   "cell_type": "code",
   "execution_count": 30,
   "id": "0764efef",
   "metadata": {},
   "outputs": [],
   "source": [
    "#c830test.upward_trend.fillna(0,inplace=True)\n",
    "c830 = c830test.copy()"
   ]
  },
  {
   "cell_type": "markdown",
   "id": "de625be8",
   "metadata": {},
   "source": [
    "## filter by fleet (C830C)"
   ]
  },
  {
   "cell_type": "code",
   "execution_count": 31,
   "id": "b770bf6f",
   "metadata": {},
   "outputs": [
    {
     "name": "stderr",
     "output_type": "stream",
     "text": [
      "C:\\Users\\Darius\\AppData\\Local\\Temp/ipykernel_1772/1592562269.py:8: FutureWarning: In a future version of pandas all arguments of DataFrame.drop except for the argument 'labels' will be keyword-only\n",
      "  dfptc830c = dfptc830c.drop('Fleet', 1).copy()\n",
      "C:\\Users\\Darius\\anaconda3\\lib\\site-packages\\pandas\\core\\generic.py:4150: PerformanceWarning: dropping on a non-lexsorted multi-index without a level parameter may impact performance.\n",
      "  obj = obj._drop_axis(labels, axis, level=level, errors=errors)\n",
      "C:\\Users\\Darius\\AppData\\Local\\Temp/ipykernel_1772/1592562269.py:23: SettingWithCopyWarning: \n",
      "A value is trying to be set on a copy of a slice from a DataFrame.\n",
      "Try using .loc[row_indexer,col_indexer] = value instead\n",
      "\n",
      "See the caveats in the documentation: https://pandas.pydata.org/pandas-docs/stable/user_guide/indexing.html#returning-a-view-versus-a-copy\n",
      "  mileagec830c[\"C830C (Monthly)\"] = mileagec830c[\"C830C (Monthly)\"].fillna(1)\n"
     ]
    }
   ],
   "source": [
    "#filter by C830C\n",
    "dfptc830c = dfpt.loc[[dfpt.index.get_level_values(0)[-1]]]\n",
    "\n",
    "#reset index\n",
    "dfptc830c = dfptc830c.reset_index()\n",
    "\n",
    "#drop fleet columns\n",
    "dfptc830c = dfptc830c.drop('Fleet', 1).copy()\n",
    "\n",
    "#compress columns name\n",
    "dfptc830c.columns = dfptc830c.columns.map('_'.join)\n",
    "\n",
    "#set month as index\n",
    "dfptc830c = dfptc830c.set_index('Record_MonthName_')\n",
    "\n",
    "#replace all the zero count as 0.1 to prevent NaN error.\n",
    "dfptc830c = dfptc830c.replace(0.0,0.1)\n",
    "\n",
    "\n",
    "#C830C mileage\n",
    "mileage.rename(columns={'Record': 'Record_MonthName_'}, inplace=True)\n",
    "mileagec830c = mileage.iloc[:,[0,68]]\n",
    "mileagec830c[\"C830C (Monthly)\"] = mileagec830c[\"C830C (Monthly)\"].fillna(1)\n",
    "mileagec830c = mileagec830c.set_index('Record_MonthName_')\n",
    "\n",
    "#fatten mileage columns\n",
    "mileagec830c.columns = mileagec830c.columns.to_flat_index()\n",
    "\n",
    "#merge mileage and dfptc830 together\n",
    "dfptc830c = pd.merge(dfptc830c,mileagec830c, how = \"left\", left_index=True, right_index=True )\n",
    "\n",
    "#remove even rows (errenous data merged on every even columns)\n",
    "\n",
    "#dfptc830c = dfptc830c.iloc[::2]\n",
    "\n",
    "#calculate defect rate of each fault category\n",
    "a = dfptc830c.iloc[:,:-1]\n",
    "b = dfptc830c.iloc[:,-1:]\n",
    "\n",
    "a = a.fillna(0.1)\n",
    "b = b.fillna(0.1)\n",
    "\n",
    "c830c_defectrate = a.div(b.values, axis=0) * 100000.0\n",
    "c830c_defectrate = c830c_defectrate.round(2)\n",
    "\n",
    "#calculate mean of each fault category\n",
    "c830c_mean = c830c_defectrate.tail(18)\n",
    "c830c_mean = c830c_mean.replace(\"Train Number_\",\"mean\")\n",
    "c830c_mean.reset_index(inplace=True)\n",
    "c830c_mean.columns = c830c_mean.columns.str.replace(\"Train Number_\",\"Mean \")\n",
    "\n",
    "#calculate std *3 (UCL) of each fault category\n",
    "c830c_std = (c830c_defectrate.rolling(18).std().tail(18) * 1.645) + (c830c_defectrate.rolling(18).mean().tail(18))\n",
    "c830c_std = c830c_std.replace(\"Train Number_\",\"UCL\")\n",
    "c830c_std.reset_index(inplace=True)\n",
    "c830c_std.columns = c830c_std.columns.str.replace(\"Train Number_\",\"UCL \")\n",
    "\n",
    "##fix c830 UCL line by year\n",
    "fixed_UCL(c830c_std)\n",
    "\n",
    "#merge mean data and std data\n",
    "c830c = pd.merge(c830c_mean,c830c_std, how = \"left\",on  =\"Record_MonthName_\")\n",
    "#round the decimal points\n",
    "c830c = c830c.round(2)"
   ]
  },
  {
   "cell_type": "code",
   "execution_count": 32,
   "id": "60c134e1",
   "metadata": {},
   "outputs": [],
   "source": [
    "#melt defect rate columns\n",
    "c830cdr = pd.melt(c830c, id_vars=['Record_MonthName_'], value_vars=c830c.iloc[:,1:12],var_name='Fault_Category',value_name='Defect_Rate', ignore_index=False)\n",
    "#generalise fault category labels\n",
    "c830cdr.Fault_Category = c830cdr.Fault_Category.str.replace(\"Mean\",\"\").str.strip()\n",
    "\n",
    "#melt defect rate columns\n",
    "c830cucl = pd.melt(c830c, id_vars=['Record_MonthName_'], value_vars=c830c.iloc[:,12:],var_name='Fault_Category',value_name='UCL', ignore_index=False)\n",
    "\n",
    "#concat c830dr and c830ucl\n",
    "c830cdr[\"UCL\"] = c830cucl.iloc[:,2]\n",
    "c830c = c830cdr\n",
    "c830c.reset_index(drop=True, inplace=True)"
   ]
  },
  {
   "cell_type": "markdown",
   "id": "b29baf41",
   "metadata": {},
   "source": [
    "###  check for defect rate above UCL"
   ]
  },
  {
   "cell_type": "code",
   "execution_count": 33,
   "id": "4e16f8dd",
   "metadata": {
    "scrolled": true
   },
   "outputs": [],
   "source": [
    "#check for defect rate above UCL\n",
    "x=0\n",
    "c830c[\"above_UCL\"] = \"\"\n",
    "\n",
    "for x in range(len(c830c.loc[:,\"Defect_Rate\"])):\n",
    "    if c830c.loc[x,\"Defect_Rate\"] >= c830c.loc[x,\"UCL\"]:\n",
    "        c830c.loc[x,\"above_UCL\"] = c830c.loc[x,\"Defect_Rate\"]\n",
    "    else:\n",
    "        c830c.loc[x,\"above_UCL\"] = 0"
   ]
  },
  {
   "cell_type": "markdown",
   "id": "24186837",
   "metadata": {},
   "source": [
    "###  loop to capture all upward trends (3 consecutive upward trend)"
   ]
  },
  {
   "cell_type": "code",
   "execution_count": 34,
   "id": "ecbde360",
   "metadata": {},
   "outputs": [],
   "source": [
    "x=0\n",
    "y=0\n",
    "\n",
    "for y in range(c830c.Fault_Category.nunique()):\n",
    "    for x in range(18):\n",
    "        if (x+3+(18*y) == 198):\n",
    "            break\n",
    "        elif (c830c.loc[x+1+(18*y),\"Fault_Category\"] == c830c.Fault_Category.unique()[y])|(\n",
    "            c830c.loc[x+2+(18*y),\"Fault_Category\"] == c830c.Fault_Category.unique()[y])|(\n",
    "            c830c.loc[x+3+(18*y),\"Fault_Category\"] == c830c.Fault_Category.unique()[y]):\n",
    "\n",
    "            if (c830c.loc[x+(18*y),\"Defect_Rate\"] < c830c.loc[x+1+(\n",
    "                18*y),\"Defect_Rate\"] < c830c.loc[x+2+(18*y),\"Defect_Rate\"] < c830c.loc[x+3+(18*y),\"Defect_Rate\"]):\n",
    "\n",
    "                    c830c.loc[x+(18*y),\"upward_trend\"] = c830c.loc[x+(18*y),\"Defect_Rate\"]\n",
    "                    c830c.loc[x+1+(18*y),\"upward_trend\"] = c830c.loc[x+1+(18*y),\"Defect_Rate\"]\n",
    "                    c830c.loc[x+2+(18*y),\"upward_trend\"] = c830c.loc[x+2+(18*y),\"Defect_Rate\"]\n",
    "                    c830c.loc[x+3+(18*y),\"upward_trend\"] = c830c.loc[x+3+(18*y),\"Defect_Rate\"]\n",
    "\n",
    "            else:\n",
    "                pass\n",
    "        else:\n",
    "            break"
   ]
  },
  {
   "cell_type": "code",
   "execution_count": 35,
   "id": "412d43ff",
   "metadata": {},
   "outputs": [],
   "source": [
    "c830c.upward_trend.fillna(0,inplace=True)"
   ]
  },
  {
   "cell_type": "markdown",
   "id": "c1140771",
   "metadata": {},
   "source": [
    "### combining C830 and C830C df together"
   ]
  },
  {
   "cell_type": "code",
   "execution_count": 36,
   "id": "6bf20f6a",
   "metadata": {},
   "outputs": [],
   "source": [
    "c830c[\"fleet\"] = \"C830C\"\n",
    "c830[\"fleet\"] = \"C830\"\n",
    "\n",
    "train = pd.concat([c830,c830c])\n",
    "\n",
    "cols = [\"above_UCL\",\"upward_trend\"]\n",
    "train[cols] = train[cols].replace({'0':np.nan, 0:np.nan})"
   ]
  },
  {
   "cell_type": "markdown",
   "id": "5f37740a",
   "metadata": {},
   "source": [
    "### data cleaning (pvw)"
   ]
  },
  {
   "cell_type": "code",
   "execution_count": 37,
   "id": "1de09223",
   "metadata": {},
   "outputs": [],
   "source": [
    "#filter to keep only withdrawal data\n",
    "pvw = pvw.loc[pvw[\"StockChange Withdrawal\"] == \"PVW\"]\n",
    "\n",
    "#keep only Train related withdrawal\n",
    "pvw = pvw.loc[~pvw[\"Sub-System (RS)\"].str.contains(\"WSS|STP|-|HF\")]\n",
    "\n",
    "#select the required columns\n",
    "pvw_clean = pvw.loc[:,[\"Year_Month\",\"Sub-System (RS)\",\"PV\",\"fleet type\"]]\n",
    "\n",
    "#pivot table the dataframe\n",
    "pvw_gb = pvw_clean.pivot_table(values= \"PV\",index=[\"fleet type\",\"Year_Month\"],columns=\"Sub-System (RS)\", aggfunc=\"count\").fillna(0.0)\n",
    "\n",
    "pvw_gb.reset_index(inplace=True)"
   ]
  },
  {
   "cell_type": "code",
   "execution_count": 38,
   "id": "df90b4ea",
   "metadata": {
    "scrolled": true
   },
   "outputs": [],
   "source": [
    "pvwc830 = pvw_gb.loc[pvw_gb[\"fleet type\"]==\"C830\"]\n",
    "pvwc830c = pvw_gb.loc[pvw_gb[\"fleet type\"]==\"C830C\"]"
   ]
  },
  {
   "cell_type": "code",
   "execution_count": 39,
   "id": "0382d95c",
   "metadata": {
    "scrolled": true
   },
   "outputs": [],
   "source": [
    "pvwc830test = pd.melt(pvwc830.iloc[:,1:],id_vars=\"Year_Month\",value_name='pvw_count')\n",
    "pvwc830ctest = pd.melt(pvwc830c.iloc[:,1:],id_vars=\"Year_Month\",value_name='pvw_count')"
   ]
  },
  {
   "cell_type": "code",
   "execution_count": 40,
   "id": "7f3519fd",
   "metadata": {},
   "outputs": [],
   "source": [
    "pvwc830test.rename(columns={\"Year_Month\":\"Record_MonthName_\",\"Sub-System (RS)\":\"Fault_Category\"}, inplace=True)\n",
    "pvwc830ctest.rename(columns={\"Year_Month\":\"Record_MonthName_\",\"Sub-System (RS)\":\"Fault_Category\"}, inplace=True)"
   ]
  },
  {
   "cell_type": "code",
   "execution_count": 41,
   "id": "6de5e859",
   "metadata": {},
   "outputs": [],
   "source": [
    "pvwc830test = pd.merge(pvwc830test,mileagec830, on = [\"Record_MonthName_\"])\n",
    "pvwc830ctest = pd.merge(pvwc830ctest,mileagec830c, on = [\"Record_MonthName_\"])"
   ]
  },
  {
   "cell_type": "code",
   "execution_count": 42,
   "id": "21b50561",
   "metadata": {},
   "outputs": [],
   "source": [
    "#normalise withdrawal\n",
    "#pvwc830n = pvwc830test.pvw_count.div(pvwc830test[\"C830 (monthly)\"].values, axis=0) * 100000.0\n",
    "#pvwc830cn = pvwc830ctest.pvw_count.div(pvwc830ctest[\"C830C (Monthly)\"].values, axis=0) * 100000.0\n",
    "\n",
    "pvwc830n = pvwc830test.pvw_count\n",
    "pvwc830cn = pvwc830ctest.pvw_count"
   ]
  },
  {
   "cell_type": "code",
   "execution_count": 43,
   "id": "24547b86",
   "metadata": {
    "scrolled": true
   },
   "outputs": [],
   "source": [
    "pvwc830n = pd.concat([pvwc830test.iloc[:,0:2], pvwc830n], axis=1)\n",
    "pvwc830cn = pd.concat([pvwc830ctest.iloc[:,0:2], pvwc830cn], axis=1)"
   ]
  },
  {
   "cell_type": "code",
   "execution_count": 44,
   "id": "a2cacf50",
   "metadata": {},
   "outputs": [],
   "source": [
    "c830 = pd.merge(c830,pvwc830n, how='left' , left_on= [\"Record_MonthName_\",\"Fault_Category\"], right_on = [\"Record_MonthName_\",\"Fault_Category\"])\n",
    "c830c = pd.merge(c830c,pvwc830cn, how='left' , left_on= [\"Record_MonthName_\",\"Fault_Category\"], right_on = [\"Record_MonthName_\",\"Fault_Category\"])"
   ]
  },
  {
   "cell_type": "code",
   "execution_count": 45,
   "id": "4c43a205",
   "metadata": {},
   "outputs": [],
   "source": [
    "c830.pvw_count=c830.pvw_count.replace(0, np.nan)\n",
    "c830c.pvw_count=c830c.pvw_count.replace(0, np.nan)"
   ]
  },
  {
   "cell_type": "markdown",
   "id": "f7ee5555",
   "metadata": {},
   "source": [
    "### combining C830 and C830C dataframe together"
   ]
  },
  {
   "cell_type": "code",
   "execution_count": 46,
   "id": "242ce7a9",
   "metadata": {},
   "outputs": [],
   "source": [
    "c830c[\"fleet\"] = \"C830C\"\n",
    "c830[\"fleet\"] = \"C830\"\n",
    "\n",
    "train = pd.concat([c830,c830c])\n",
    "\n",
    "cols = [\"above_UCL\",\"upward_trend\"]\n",
    "train[cols] = train[cols].replace({'0':np.nan, 0:np.nan})"
   ]
  },
  {
   "cell_type": "code",
   "execution_count": 47,
   "id": "c9f489f9",
   "metadata": {},
   "outputs": [],
   "source": [
    "train.Record_MonthName_ = pd.to_datetime(train.Record_MonthName_, format='%Y-%m-%d', errors='ignore').dt.date"
   ]
  },
  {
   "cell_type": "markdown",
   "id": "b5dea575",
   "metadata": {},
   "source": [
    "### seperate critical and non critical sub-system"
   ]
  },
  {
   "cell_type": "code",
   "execution_count": 48,
   "id": "5033e5d6",
   "metadata": {},
   "outputs": [],
   "source": [
    "train_others = train.loc[train.Fault_Category.str.contains(\"Driver's Console|Coupler System|Fire Detection System|Gangway|Lighting System\")]\n",
    "train_critical = train.loc[~train.Fault_Category.str.contains(\"Driver's Console|Coupler System|Fire Detection System|Gangway|Lighting System\")]"
   ]
  },
  {
   "cell_type": "code",
   "execution_count": 49,
   "id": "20cfa81d",
   "metadata": {},
   "outputs": [
    {
     "name": "stderr",
     "output_type": "stream",
     "text": [
      "C:\\Users\\Darius\\anaconda3\\lib\\site-packages\\pandas\\core\\generic.py:5516: SettingWithCopyWarning: \n",
      "A value is trying to be set on a copy of a slice from a DataFrame.\n",
      "Try using .loc[row_indexer,col_indexer] = value instead\n",
      "\n",
      "See the caveats in the documentation: https://pandas.pydata.org/pandas-docs/stable/user_guide/indexing.html#returning-a-view-versus-a-copy\n",
      "  self[name] = value\n"
     ]
    }
   ],
   "source": [
    "train_critical.Record_MonthName_ = pd.to_datetime(train_critical.Record_MonthName_)\n",
    "train_others.Record_MonthName_ = pd.to_datetime(train_others.Record_MonthName_)"
   ]
  },
  {
   "cell_type": "code",
   "execution_count": 57,
   "id": "24572bb0",
   "metadata": {},
   "outputs": [],
   "source": [
    "train_critical.to_excel(r\"C:\\Users\\Darius\\OneDrive - SMRT Corporation Ltd\\RCM\\RCM TEMPLATE USE THIS FOR UPDATE_110221\\train_critical.xlsx\")\n",
    "train_others.to_excel(r\"C:\\Users\\Darius\\OneDrive - SMRT Corporation Ltd\\RCM\\RCM TEMPLATE USE THIS FOR UPDATE_110221\\train_others.xlsx\")"
   ]
  }
 ],
 "metadata": {
  "kernelspec": {
   "display_name": "Python 3 (ipykernel)",
   "language": "python",
   "name": "python3"
  },
  "language_info": {
   "codemirror_mode": {
    "name": "ipython",
    "version": 3
   },
   "file_extension": ".py",
   "mimetype": "text/x-python",
   "name": "python",
   "nbconvert_exporter": "python",
   "pygments_lexer": "ipython3",
   "version": "3.9.7"
  }
 },
 "nbformat": 4,
 "nbformat_minor": 5
}
